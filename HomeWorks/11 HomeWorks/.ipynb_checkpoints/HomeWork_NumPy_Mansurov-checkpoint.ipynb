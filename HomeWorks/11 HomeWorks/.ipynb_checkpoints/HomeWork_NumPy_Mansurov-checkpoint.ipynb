{
 "cells": [
  {
   "cell_type": "code",
   "execution_count": 2,
   "id": "75c02ff7",
   "metadata": {},
   "outputs": [],
   "source": [
    "import numpy as np"
   ]
  },
  {
   "cell_type": "code",
   "execution_count": 15,
   "id": "6b3883da",
   "metadata": {},
   "outputs": [],
   "source": [
    "array1 = np.random.random(9) * 10"
   ]
  },
  {
   "cell_type": "code",
   "execution_count": 16,
   "id": "19671355",
   "metadata": {},
   "outputs": [
    {
     "data": {
      "text/plain": [
       "array([3.0328516 , 1.75733782, 3.30839037, 7.79729035, 3.79496835,\n",
       "       9.84476827, 5.17766991, 7.44380243, 0.98691906])"
      ]
     },
     "execution_count": 16,
     "metadata": {},
     "output_type": "execute_result"
    }
   ],
   "source": [
    "array1"
   ]
  },
  {
   "cell_type": "code",
   "execution_count": 17,
   "id": "a2538d40",
   "metadata": {},
   "outputs": [],
   "source": [
    "array2 = np.arange(1, 10, 1)"
   ]
  },
  {
   "cell_type": "code",
   "execution_count": 18,
   "id": "a723efdc",
   "metadata": {},
   "outputs": [
    {
     "data": {
      "text/plain": [
       "array([1, 2, 3, 4, 5, 6, 7, 8, 9])"
      ]
     },
     "execution_count": 18,
     "metadata": {},
     "output_type": "execute_result"
    }
   ],
   "source": [
    "array2"
   ]
  },
  {
   "cell_type": "code",
   "execution_count": 26,
   "id": "3245da4a",
   "metadata": {
    "scrolled": true
   },
   "outputs": [],
   "source": [
    "array11 = array1.reshape(3,3)"
   ]
  },
  {
   "cell_type": "code",
   "execution_count": 27,
   "id": "29c26841",
   "metadata": {},
   "outputs": [
    {
     "data": {
      "text/plain": [
       "array([[3.0328516 , 1.75733782, 3.30839037],\n",
       "       [7.79729035, 3.79496835, 9.84476827],\n",
       "       [5.17766991, 7.44380243, 0.98691906]])"
      ]
     },
     "execution_count": 27,
     "metadata": {},
     "output_type": "execute_result"
    }
   ],
   "source": [
    "array11"
   ]
  },
  {
   "cell_type": "code",
   "execution_count": 28,
   "id": "4784ea9c",
   "metadata": {},
   "outputs": [],
   "source": [
    "array22 = array2.reshape(3,3)"
   ]
  },
  {
   "cell_type": "code",
   "execution_count": 29,
   "id": "75b757b4",
   "metadata": {},
   "outputs": [
    {
     "data": {
      "text/plain": [
       "array([[1, 2, 3],\n",
       "       [4, 5, 6],\n",
       "       [7, 8, 9]])"
      ]
     },
     "execution_count": 29,
     "metadata": {},
     "output_type": "execute_result"
    }
   ],
   "source": [
    "array22"
   ]
  },
  {
   "cell_type": "code",
   "execution_count": 30,
   "id": "a2b5a7bd",
   "metadata": {},
   "outputs": [
    {
     "data": {
      "text/plain": [
       "array([[ 4.0328516 ,  3.75733782,  6.30839037],\n",
       "       [11.79729035,  8.79496835, 15.84476827],\n",
       "       [12.17766991, 15.44380243,  9.98691906]])"
      ]
     },
     "execution_count": 30,
     "metadata": {},
     "output_type": "execute_result"
    }
   ],
   "source": [
    "array11 + array22"
   ]
  },
  {
   "cell_type": "code",
   "execution_count": 31,
   "id": "c431aeb5",
   "metadata": {},
   "outputs": [
    {
     "data": {
      "text/plain": [
       "array([[ 2.0328516 , -0.24266218,  0.30839037],\n",
       "       [ 3.79729035, -1.20503165,  3.84476827],\n",
       "       [-1.82233009, -0.55619757, -8.01308094]])"
      ]
     },
     "execution_count": 31,
     "metadata": {},
     "output_type": "execute_result"
    }
   ],
   "source": [
    "array11 - array22"
   ]
  },
  {
   "cell_type": "code",
   "execution_count": 32,
   "id": "ce017dab",
   "metadata": {},
   "outputs": [
    {
     "data": {
      "text/plain": [
       "array([[3.0328516 , 0.87866891, 1.10279679],\n",
       "       [1.94932259, 0.75899367, 1.64079471],\n",
       "       [0.73966713, 0.9304753 , 0.10965767]])"
      ]
     },
     "execution_count": 32,
     "metadata": {},
     "output_type": "execute_result"
    }
   ],
   "source": [
    "array11 / array22"
   ]
  },
  {
   "cell_type": "code",
   "execution_count": 33,
   "id": "b7a8146b",
   "metadata": {},
   "outputs": [
    {
     "data": {
      "text/plain": [
       "array([[ 3.0328516 ,  3.51467563,  9.92517112],\n",
       "       [31.18916139, 18.97484176, 59.06860962],\n",
       "       [36.24368938, 59.55041942,  8.88227157]])"
      ]
     },
     "execution_count": 33,
     "metadata": {},
     "output_type": "execute_result"
    }
   ],
   "source": [
    "array11 * array22"
   ]
  },
  {
   "cell_type": "code",
   "execution_count": 38,
   "id": "87040aea",
   "metadata": {},
   "outputs": [
    {
     "data": {
      "text/plain": [
       "array([3.30839037, 9.84476827, 7.44380243])"
      ]
     },
     "execution_count": 38,
     "metadata": {},
     "output_type": "execute_result"
    }
   ],
   "source": [
    "array11.max(axis=1)"
   ]
  },
  {
   "cell_type": "code",
   "execution_count": 37,
   "id": "4571d80f",
   "metadata": {},
   "outputs": [
    {
     "data": {
      "text/plain": [
       "array([7.79729035, 7.44380243, 9.84476827])"
      ]
     },
     "execution_count": 37,
     "metadata": {},
     "output_type": "execute_result"
    }
   ],
   "source": [
    "array11.max(axis=0)"
   ]
  },
  {
   "cell_type": "code",
   "execution_count": 39,
   "id": "cc3954a5",
   "metadata": {},
   "outputs": [
    {
     "data": {
      "text/plain": [
       "9.844768270466801"
      ]
     },
     "execution_count": 39,
     "metadata": {},
     "output_type": "execute_result"
    }
   ],
   "source": [
    "array11.max()"
   ]
  },
  {
   "cell_type": "code",
   "execution_count": 40,
   "id": "2af42a57",
   "metadata": {},
   "outputs": [
    {
     "data": {
      "text/plain": [
       "9"
      ]
     },
     "execution_count": 40,
     "metadata": {},
     "output_type": "execute_result"
    }
   ],
   "source": [
    "array22.max()"
   ]
  },
  {
   "cell_type": "code",
   "execution_count": 42,
   "id": "38c295bd",
   "metadata": {},
   "outputs": [],
   "source": [
    "array3 = np.array([array11.max(), array22.max()])"
   ]
  },
  {
   "cell_type": "code",
   "execution_count": 43,
   "id": "b6ba61db",
   "metadata": {},
   "outputs": [
    {
     "data": {
      "text/plain": [
       "array([9.84476827, 9.        ])"
      ]
     },
     "execution_count": 43,
     "metadata": {},
     "output_type": "execute_result"
    }
   ],
   "source": [
    "array3"
   ]
  },
  {
   "cell_type": "code",
   "execution_count": 44,
   "id": "bc09b147",
   "metadata": {},
   "outputs": [
    {
     "data": {
      "text/plain": [
       "9.844768270466801"
      ]
     },
     "execution_count": 44,
     "metadata": {},
     "output_type": "execute_result"
    }
   ],
   "source": [
    "array3.max()"
   ]
  }
 ],
 "metadata": {
  "kernelspec": {
   "display_name": "Python 3 (ipykernel)",
   "language": "python",
   "name": "python3"
  },
  "language_info": {
   "codemirror_mode": {
    "name": "ipython",
    "version": 3
   },
   "file_extension": ".py",
   "mimetype": "text/x-python",
   "name": "python",
   "nbconvert_exporter": "python",
   "pygments_lexer": "ipython3",
   "version": "3.9.13"
  }
 },
 "nbformat": 4,
 "nbformat_minor": 5
}
